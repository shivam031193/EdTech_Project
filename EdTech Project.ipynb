{
 "cells": [
  {
   "cell_type": "code",
   "execution_count": 3,
   "id": "7864b31a",
   "metadata": {},
   "outputs": [],
   "source": [
    "import pandas as pd\n",
    "import numpy as np\n",
    "import matplotlib.pyplot as plt\n",
    "import seaborn as sns"
   ]
  },
  {
   "cell_type": "code",
   "execution_count": 4,
   "id": "4a56a6af",
   "metadata": {},
   "outputs": [
    {
     "data": {
      "text/html": [
       "<div>\n",
       "<style scoped>\n",
       "    .dataframe tbody tr th:only-of-type {\n",
       "        vertical-align: middle;\n",
       "    }\n",
       "\n",
       "    .dataframe tbody tr th {\n",
       "        vertical-align: top;\n",
       "    }\n",
       "\n",
       "    .dataframe thead th {\n",
       "        text-align: right;\n",
       "    }\n",
       "</style>\n",
       "<table border=\"1\" class=\"dataframe\">\n",
       "  <thead>\n",
       "    <tr style=\"text-align: right;\">\n",
       "      <th></th>\n",
       "      <th>id</th>\n",
       "      <th>title</th>\n",
       "      <th>url</th>\n",
       "      <th>is_paid</th>\n",
       "      <th>num_subscribers</th>\n",
       "      <th>avg_rating</th>\n",
       "      <th>avg_rating_recent</th>\n",
       "      <th>rating</th>\n",
       "      <th>num_reviews</th>\n",
       "      <th>is_wishlisted</th>\n",
       "      <th>num_published_lectures</th>\n",
       "      <th>num_published_practice_tests</th>\n",
       "      <th>created</th>\n",
       "      <th>published_time</th>\n",
       "      <th>discount_price__amount</th>\n",
       "      <th>discount_price__currency</th>\n",
       "      <th>discount_price__price_string</th>\n",
       "      <th>price_detail__amount</th>\n",
       "      <th>price_detail__currency</th>\n",
       "      <th>price_detail__price_string</th>\n",
       "    </tr>\n",
       "  </thead>\n",
       "  <tbody>\n",
       "    <tr>\n",
       "      <th>0</th>\n",
       "      <td>762616</td>\n",
       "      <td>The Complete SQL Bootcamp 2020: Go from Zero t...</td>\n",
       "      <td>/course/the-complete-sql-bootcamp/</td>\n",
       "      <td>True</td>\n",
       "      <td>295509</td>\n",
       "      <td>4.66019</td>\n",
       "      <td>4.67874</td>\n",
       "      <td>4.67874</td>\n",
       "      <td>78006</td>\n",
       "      <td>False</td>\n",
       "      <td>84</td>\n",
       "      <td>0</td>\n",
       "      <td>2016-02-14T22:57:48Z</td>\n",
       "      <td>2016-04-06T05:16:11Z</td>\n",
       "      <td>455.0</td>\n",
       "      <td>INR</td>\n",
       "      <td>₹455</td>\n",
       "      <td>8640</td>\n",
       "      <td>INR</td>\n",
       "      <td>₹8,640</td>\n",
       "    </tr>\n",
       "    <tr>\n",
       "      <th>1</th>\n",
       "      <td>937678</td>\n",
       "      <td>Tableau 2020 A-Z: Hands-On Tableau Training fo...</td>\n",
       "      <td>/course/tableau10/</td>\n",
       "      <td>True</td>\n",
       "      <td>209070</td>\n",
       "      <td>4.58956</td>\n",
       "      <td>4.60015</td>\n",
       "      <td>4.60015</td>\n",
       "      <td>54581</td>\n",
       "      <td>False</td>\n",
       "      <td>78</td>\n",
       "      <td>0</td>\n",
       "      <td>2016-08-22T12:10:18Z</td>\n",
       "      <td>2016-08-23T16:59:49Z</td>\n",
       "      <td>455.0</td>\n",
       "      <td>INR</td>\n",
       "      <td>₹455</td>\n",
       "      <td>8640</td>\n",
       "      <td>INR</td>\n",
       "      <td>₹8,640</td>\n",
       "    </tr>\n",
       "  </tbody>\n",
       "</table>\n",
       "</div>"
      ],
      "text/plain": [
       "       id                                              title  \\\n",
       "0  762616  The Complete SQL Bootcamp 2020: Go from Zero t...   \n",
       "1  937678  Tableau 2020 A-Z: Hands-On Tableau Training fo...   \n",
       "\n",
       "                                  url  is_paid  num_subscribers  avg_rating  \\\n",
       "0  /course/the-complete-sql-bootcamp/     True           295509     4.66019   \n",
       "1                  /course/tableau10/     True           209070     4.58956   \n",
       "\n",
       "   avg_rating_recent   rating  num_reviews  is_wishlisted  \\\n",
       "0            4.67874  4.67874        78006          False   \n",
       "1            4.60015  4.60015        54581          False   \n",
       "\n",
       "   num_published_lectures  num_published_practice_tests               created  \\\n",
       "0                      84                             0  2016-02-14T22:57:48Z   \n",
       "1                      78                             0  2016-08-22T12:10:18Z   \n",
       "\n",
       "         published_time  discount_price__amount discount_price__currency  \\\n",
       "0  2016-04-06T05:16:11Z                   455.0                      INR   \n",
       "1  2016-08-23T16:59:49Z                   455.0                      INR   \n",
       "\n",
       "  discount_price__price_string  price_detail__amount price_detail__currency  \\\n",
       "0                         ₹455                  8640                    INR   \n",
       "1                         ₹455                  8640                    INR   \n",
       "\n",
       "  price_detail__price_string  \n",
       "0                     ₹8,640  \n",
       "1                     ₹8,640  "
      ]
     },
     "execution_count": 4,
     "metadata": {},
     "output_type": "execute_result"
    }
   ],
   "source": [
    "df = pd.read_csv(\"online_All_Business_p1_p626.csv\")\n",
    "df.head(2)"
   ]
  },
  {
   "cell_type": "code",
   "execution_count": 5,
   "id": "7af4a8de",
   "metadata": {},
   "outputs": [
    {
     "data": {
      "text/plain": [
       "id                                0\n",
       "title                             0\n",
       "url                               0\n",
       "is_paid                           0\n",
       "num_subscribers                   0\n",
       "avg_rating                        0\n",
       "avg_rating_recent                 0\n",
       "rating                            0\n",
       "num_reviews                       0\n",
       "is_wishlisted                     0\n",
       "num_published_lectures            0\n",
       "num_published_practice_tests      0\n",
       "created                           0\n",
       "published_time                    0\n",
       "discount_price__amount          510\n",
       "discount_price__currency        510\n",
       "discount_price__price_string    510\n",
       "price_detail__amount              0\n",
       "price_detail__currency            0\n",
       "price_detail__price_string        0\n",
       "dtype: int64"
      ]
     },
     "execution_count": 5,
     "metadata": {},
     "output_type": "execute_result"
    }
   ],
   "source": [
    "df.isnull().sum()"
   ]
  },
  {
   "cell_type": "code",
   "execution_count": 7,
   "id": "a7297982",
   "metadata": {},
   "outputs": [
    {
     "data": {
      "text/plain": [
       "array(['₹455', '₹500', nan, '₹540', '₹546', '₹481', '₹488', '₹474',\n",
       "       '₹462', '₹2,880', '₹494', '₹1,600', '₹800', '₹2,080', '₹520',\n",
       "       '₹468', '₹700', '₹514', '₹552', '₹640', '₹3,200', '₹960', '₹507',\n",
       "       '₹2,720', '₹1,920', '₹1,680', '₹611', '₹2,400', '₹720', '₹1,280',\n",
       "       '₹533', '₹2,000', '₹2,240', '₹3,040', '₹2,160', '₹1,360', '₹1,760',\n",
       "       '₹2,480', '₹1,120', '₹1,520', '₹1,440', '₹480', '₹2,320', '₹1,200',\n",
       "       '₹2,560', '₹1,840', '₹2,800', '₹2,960', '₹560'], dtype=object)"
      ]
     },
     "execution_count": 7,
     "metadata": {},
     "output_type": "execute_result"
    }
   ],
   "source": [
    "df.discount_price__price_string.unique()"
   ]
  },
  {
   "cell_type": "markdown",
   "id": "9ec09ec1",
   "metadata": {},
   "source": [
    "data = pd.DataFrame({id:list1,title:list2,is_paid:list3,num_subscribers:list4,avg_rating:list5,rating:list6,num_reviews:list7,is_wishlisted:list8,num_published_lectures:list9,num_published_practice_tests:list10,created:list11,published_time:list12,discount_price__amount:list13,price_detail__amount:list14})\n",
    "data.to_excel('sample_data.xlsx', sheet_name='sheet1', index=False)"
   ]
  },
  {
   "cell_type": "code",
   "execution_count": 8,
   "id": "0e028921",
   "metadata": {},
   "outputs": [
    {
     "data": {
      "text/html": [
       "<div>\n",
       "<style scoped>\n",
       "    .dataframe tbody tr th:only-of-type {\n",
       "        vertical-align: middle;\n",
       "    }\n",
       "\n",
       "    .dataframe tbody tr th {\n",
       "        vertical-align: top;\n",
       "    }\n",
       "\n",
       "    .dataframe thead th {\n",
       "        text-align: right;\n",
       "    }\n",
       "</style>\n",
       "<table border=\"1\" class=\"dataframe\">\n",
       "  <thead>\n",
       "    <tr style=\"text-align: right;\">\n",
       "      <th></th>\n",
       "      <th>id</th>\n",
       "      <th>title</th>\n",
       "      <th>is_paid</th>\n",
       "      <th>num_subscribers</th>\n",
       "      <th>avg_rating</th>\n",
       "      <th>rating</th>\n",
       "      <th>num_reviews</th>\n",
       "      <th>is_wishlisted</th>\n",
       "      <th>num_published_lectures</th>\n",
       "      <th>num_published_practice_tests</th>\n",
       "      <th>created</th>\n",
       "      <th>published_time</th>\n",
       "      <th>discount_price__amount</th>\n",
       "      <th>price_detail__amount</th>\n",
       "    </tr>\n",
       "  </thead>\n",
       "  <tbody>\n",
       "    <tr>\n",
       "      <th>0</th>\n",
       "      <td>762616</td>\n",
       "      <td>The Complete SQL Bootcamp 2020: Go from Zero t...</td>\n",
       "      <td>True</td>\n",
       "      <td>295509</td>\n",
       "      <td>4.66019</td>\n",
       "      <td>4.67874</td>\n",
       "      <td>78006</td>\n",
       "      <td>False</td>\n",
       "      <td>84</td>\n",
       "      <td>0</td>\n",
       "      <td>2016-02-14T22:57:48Z</td>\n",
       "      <td>2016-04-06T05:16:11Z</td>\n",
       "      <td>455.0</td>\n",
       "      <td>8640</td>\n",
       "    </tr>\n",
       "    <tr>\n",
       "      <th>1</th>\n",
       "      <td>937678</td>\n",
       "      <td>Tableau 2020 A-Z: Hands-On Tableau Training fo...</td>\n",
       "      <td>True</td>\n",
       "      <td>209070</td>\n",
       "      <td>4.58956</td>\n",
       "      <td>4.60015</td>\n",
       "      <td>54581</td>\n",
       "      <td>False</td>\n",
       "      <td>78</td>\n",
       "      <td>0</td>\n",
       "      <td>2016-08-22T12:10:18Z</td>\n",
       "      <td>2016-08-23T16:59:49Z</td>\n",
       "      <td>455.0</td>\n",
       "      <td>8640</td>\n",
       "    </tr>\n",
       "    <tr>\n",
       "      <th>2</th>\n",
       "      <td>1361790</td>\n",
       "      <td>PMP Exam Prep Seminar -  PMBOK Guide 6</td>\n",
       "      <td>True</td>\n",
       "      <td>155282</td>\n",
       "      <td>4.59491</td>\n",
       "      <td>4.59326</td>\n",
       "      <td>52653</td>\n",
       "      <td>False</td>\n",
       "      <td>292</td>\n",
       "      <td>2</td>\n",
       "      <td>2017-09-26T16:32:48Z</td>\n",
       "      <td>2017-11-14T23:58:14Z</td>\n",
       "      <td>455.0</td>\n",
       "      <td>8640</td>\n",
       "    </tr>\n",
       "    <tr>\n",
       "      <th>3</th>\n",
       "      <td>648826</td>\n",
       "      <td>The Complete Financial Analyst Course 2020</td>\n",
       "      <td>True</td>\n",
       "      <td>245860</td>\n",
       "      <td>4.54407</td>\n",
       "      <td>4.53772</td>\n",
       "      <td>46447</td>\n",
       "      <td>False</td>\n",
       "      <td>338</td>\n",
       "      <td>0</td>\n",
       "      <td>2015-10-23T13:34:35Z</td>\n",
       "      <td>2016-01-21T01:38:48Z</td>\n",
       "      <td>455.0</td>\n",
       "      <td>8640</td>\n",
       "    </tr>\n",
       "    <tr>\n",
       "      <th>4</th>\n",
       "      <td>637930</td>\n",
       "      <td>An Entire MBA in 1 Course:Award Winning Busine...</td>\n",
       "      <td>True</td>\n",
       "      <td>374836</td>\n",
       "      <td>4.47080</td>\n",
       "      <td>4.47173</td>\n",
       "      <td>41630</td>\n",
       "      <td>False</td>\n",
       "      <td>83</td>\n",
       "      <td>0</td>\n",
       "      <td>2015-10-12T06:39:46Z</td>\n",
       "      <td>2016-01-11T21:39:33Z</td>\n",
       "      <td>455.0</td>\n",
       "      <td>8640</td>\n",
       "    </tr>\n",
       "    <tr>\n",
       "      <th>...</th>\n",
       "      <td>...</td>\n",
       "      <td>...</td>\n",
       "      <td>...</td>\n",
       "      <td>...</td>\n",
       "      <td>...</td>\n",
       "      <td>...</td>\n",
       "      <td>...</td>\n",
       "      <td>...</td>\n",
       "      <td>...</td>\n",
       "      <td>...</td>\n",
       "      <td>...</td>\n",
       "      <td>...</td>\n",
       "      <td>...</td>\n",
       "      <td>...</td>\n",
       "    </tr>\n",
       "    <tr>\n",
       "      <th>9442</th>\n",
       "      <td>1934910</td>\n",
       "      <td>Simple Value Investing Guide With Proven Methods</td>\n",
       "      <td>True</td>\n",
       "      <td>1129</td>\n",
       "      <td>3.50000</td>\n",
       "      <td>3.43520</td>\n",
       "      <td>3</td>\n",
       "      <td>False</td>\n",
       "      <td>35</td>\n",
       "      <td>0</td>\n",
       "      <td>2018-09-27T04:37:00Z</td>\n",
       "      <td>2018-10-31T22:58:12Z</td>\n",
       "      <td>455.0</td>\n",
       "      <td>8640</td>\n",
       "    </tr>\n",
       "    <tr>\n",
       "      <th>9443</th>\n",
       "      <td>2057175</td>\n",
       "      <td>Effectively Optimizing Your Recruitment Process</td>\n",
       "      <td>True</td>\n",
       "      <td>9</td>\n",
       "      <td>2.16667</td>\n",
       "      <td>2.16014</td>\n",
       "      <td>3</td>\n",
       "      <td>False</td>\n",
       "      <td>26</td>\n",
       "      <td>0</td>\n",
       "      <td>2018-11-29T13:39:30Z</td>\n",
       "      <td>2018-12-04T02:13:17Z</td>\n",
       "      <td>455.0</td>\n",
       "      <td>1280</td>\n",
       "    </tr>\n",
       "    <tr>\n",
       "      <th>9444</th>\n",
       "      <td>1964000</td>\n",
       "      <td>Leadership Development:Ready To Use Tools to l...</td>\n",
       "      <td>True</td>\n",
       "      <td>1017</td>\n",
       "      <td>4.16667</td>\n",
       "      <td>3.88844</td>\n",
       "      <td>3</td>\n",
       "      <td>False</td>\n",
       "      <td>5</td>\n",
       "      <td>0</td>\n",
       "      <td>2018-10-13T10:03:33Z</td>\n",
       "      <td>2018-10-27T21:50:36Z</td>\n",
       "      <td>455.0</td>\n",
       "      <td>6400</td>\n",
       "    </tr>\n",
       "    <tr>\n",
       "      <th>9445</th>\n",
       "      <td>2769588</td>\n",
       "      <td>Business Efficiency: How To Increase Workplace...</td>\n",
       "      <td>True</td>\n",
       "      <td>1716</td>\n",
       "      <td>3.66667</td>\n",
       "      <td>3.52632</td>\n",
       "      <td>3</td>\n",
       "      <td>False</td>\n",
       "      <td>7</td>\n",
       "      <td>0</td>\n",
       "      <td>2020-01-20T18:10:33Z</td>\n",
       "      <td>2020-01-21T16:25:32Z</td>\n",
       "      <td>455.0</td>\n",
       "      <td>6400</td>\n",
       "    </tr>\n",
       "    <tr>\n",
       "      <th>9446</th>\n",
       "      <td>2801192</td>\n",
       "      <td>How to enter the US market?</td>\n",
       "      <td>True</td>\n",
       "      <td>14</td>\n",
       "      <td>5.00000</td>\n",
       "      <td>5.00000</td>\n",
       "      <td>3</td>\n",
       "      <td>False</td>\n",
       "      <td>5</td>\n",
       "      <td>0</td>\n",
       "      <td>2020-02-07T06:16:29Z</td>\n",
       "      <td>2020-02-11T22:10:35Z</td>\n",
       "      <td>455.0</td>\n",
       "      <td>6400</td>\n",
       "    </tr>\n",
       "  </tbody>\n",
       "</table>\n",
       "<p>9447 rows × 14 columns</p>\n",
       "</div>"
      ],
      "text/plain": [
       "           id                                              title  is_paid  \\\n",
       "0      762616  The Complete SQL Bootcamp 2020: Go from Zero t...     True   \n",
       "1      937678  Tableau 2020 A-Z: Hands-On Tableau Training fo...     True   \n",
       "2     1361790             PMP Exam Prep Seminar -  PMBOK Guide 6     True   \n",
       "3      648826         The Complete Financial Analyst Course 2020     True   \n",
       "4      637930  An Entire MBA in 1 Course:Award Winning Busine...     True   \n",
       "...       ...                                                ...      ...   \n",
       "9442  1934910   Simple Value Investing Guide With Proven Methods     True   \n",
       "9443  2057175    Effectively Optimizing Your Recruitment Process     True   \n",
       "9444  1964000  Leadership Development:Ready To Use Tools to l...     True   \n",
       "9445  2769588  Business Efficiency: How To Increase Workplace...     True   \n",
       "9446  2801192                        How to enter the US market?     True   \n",
       "\n",
       "      num_subscribers  avg_rating   rating  num_reviews  is_wishlisted  \\\n",
       "0              295509     4.66019  4.67874        78006          False   \n",
       "1              209070     4.58956  4.60015        54581          False   \n",
       "2              155282     4.59491  4.59326        52653          False   \n",
       "3              245860     4.54407  4.53772        46447          False   \n",
       "4              374836     4.47080  4.47173        41630          False   \n",
       "...               ...         ...      ...          ...            ...   \n",
       "9442             1129     3.50000  3.43520            3          False   \n",
       "9443                9     2.16667  2.16014            3          False   \n",
       "9444             1017     4.16667  3.88844            3          False   \n",
       "9445             1716     3.66667  3.52632            3          False   \n",
       "9446               14     5.00000  5.00000            3          False   \n",
       "\n",
       "      num_published_lectures  num_published_practice_tests  \\\n",
       "0                         84                             0   \n",
       "1                         78                             0   \n",
       "2                        292                             2   \n",
       "3                        338                             0   \n",
       "4                         83                             0   \n",
       "...                      ...                           ...   \n",
       "9442                      35                             0   \n",
       "9443                      26                             0   \n",
       "9444                       5                             0   \n",
       "9445                       7                             0   \n",
       "9446                       5                             0   \n",
       "\n",
       "                   created        published_time  discount_price__amount  \\\n",
       "0     2016-02-14T22:57:48Z  2016-04-06T05:16:11Z                   455.0   \n",
       "1     2016-08-22T12:10:18Z  2016-08-23T16:59:49Z                   455.0   \n",
       "2     2017-09-26T16:32:48Z  2017-11-14T23:58:14Z                   455.0   \n",
       "3     2015-10-23T13:34:35Z  2016-01-21T01:38:48Z                   455.0   \n",
       "4     2015-10-12T06:39:46Z  2016-01-11T21:39:33Z                   455.0   \n",
       "...                    ...                   ...                     ...   \n",
       "9442  2018-09-27T04:37:00Z  2018-10-31T22:58:12Z                   455.0   \n",
       "9443  2018-11-29T13:39:30Z  2018-12-04T02:13:17Z                   455.0   \n",
       "9444  2018-10-13T10:03:33Z  2018-10-27T21:50:36Z                   455.0   \n",
       "9445  2020-01-20T18:10:33Z  2020-01-21T16:25:32Z                   455.0   \n",
       "9446  2020-02-07T06:16:29Z  2020-02-11T22:10:35Z                   455.0   \n",
       "\n",
       "      price_detail__amount  \n",
       "0                     8640  \n",
       "1                     8640  \n",
       "2                     8640  \n",
       "3                     8640  \n",
       "4                     8640  \n",
       "...                    ...  \n",
       "9442                  8640  \n",
       "9443                  1280  \n",
       "9444                  6400  \n",
       "9445                  6400  \n",
       "9446                  6400  \n",
       "\n",
       "[9447 rows x 14 columns]"
      ]
     },
     "execution_count": 8,
     "metadata": {},
     "output_type": "execute_result"
    }
   ],
   "source": [
    "df.drop([\"url\", \"avg_rating_recent\", \"discount_price__currency\", \"price_detail__currency\", \"price_detail__price_string\", \"discount_price__price_string\"], axis=1, inplace=False)"
   ]
  },
  {
   "cell_type": "code",
   "execution_count": null,
   "id": "4d0c8003",
   "metadata": {},
   "outputs": [],
   "source": [
    "df.describe()"
   ]
  },
  {
   "cell_type": "code",
   "execution_count": null,
   "id": "3e7bfdd9",
   "metadata": {},
   "outputs": [],
   "source": [
    "df.head(1)"
   ]
  },
  {
   "cell_type": "markdown",
   "id": "9aa92e78",
   "metadata": {},
   "source": [
    "# 1. Most reviewed courses"
   ]
  },
  {
   "cell_type": "markdown",
   "id": "8f06bd4e",
   "metadata": {},
   "source": [
    "KPI: Counting the num_reviews for each course"
   ]
  },
  {
   "cell_type": "code",
   "execution_count": null,
   "id": "8c7b0216",
   "metadata": {},
   "outputs": [],
   "source": [
    "df[['title', 'num_reviews']].sort_values(by = 'num_reviews', ascending = False)"
   ]
  },
  {
   "cell_type": "markdown",
   "id": "341eaed5",
   "metadata": {},
   "source": [
    "Countying reciews of each courses"
   ]
  },
  {
   "cell_type": "markdown",
   "id": "a11a8bd5",
   "metadata": {},
   "source": [
    "KPI: Find relation between is_wishlisted to see how many interested."
   ]
  },
  {
   "cell_type": "code",
   "execution_count": null,
   "id": "a13c1f90",
   "metadata": {},
   "outputs": [],
   "source": [
    "plt.figure(figsize=(5, 5))\n",
    "sns.countplot(x=df['is_wishlisted'])\n",
    "plt.title('')"
   ]
  },
  {
   "cell_type": "markdown",
   "id": "5a8bf014",
   "metadata": {},
   "source": [
    "All the courses in the dataset are not interested prior purchasing courses."
   ]
  },
  {
   "cell_type": "markdown",
   "id": "9b766a38",
   "metadata": {},
   "source": [
    "KPI: Top 10 reviewed courses."
   ]
  },
  {
   "cell_type": "code",
   "execution_count": null,
   "id": "d22bed84",
   "metadata": {},
   "outputs": [],
   "source": [
    "df[['title', 'num_reviews']].sort_values(by = 'num_reviews', ascending = False).head(10)"
   ]
  },
  {
   "cell_type": "markdown",
   "id": "2eea46e7",
   "metadata": {},
   "source": [
    "Top 10 reviews"
   ]
  },
  {
   "cell_type": "markdown",
   "id": "e143b1e9",
   "metadata": {},
   "source": [
    "# 2. Subscription of course"
   ]
  },
  {
   "cell_type": "markdown",
   "id": "84472a86",
   "metadata": {},
   "source": [
    "KPI: Counting the num_subscribers for each course."
   ]
  },
  {
   "cell_type": "code",
   "execution_count": null,
   "id": "77c0a0e2",
   "metadata": {
    "scrolled": true
   },
   "outputs": [],
   "source": [
    "df[['title', 'num_subscribers']].sort_values(by = 'num_subscribers', ascending = False)"
   ]
  },
  {
   "cell_type": "markdown",
   "id": "c28adb94",
   "metadata": {},
   "source": [
    "Number of suscribers in each cource"
   ]
  },
  {
   "cell_type": "markdown",
   "id": "dc104dd1",
   "metadata": {},
   "source": [
    "KPI: Top 10 subscribed course."
   ]
  },
  {
   "cell_type": "code",
   "execution_count": null,
   "id": "39a82cfd",
   "metadata": {},
   "outputs": [],
   "source": [
    "df[['title', 'num_subscribers']].sort_values(by = 'num_subscribers', ascending = False).head(10)"
   ]
  },
  {
   "cell_type": "markdown",
   "id": "4af031f5",
   "metadata": {},
   "source": [
    "Top 10 number of subscribers"
   ]
  },
  {
   "cell_type": "markdown",
   "id": "d194afbf",
   "metadata": {},
   "source": [
    "KPI: Find relation of is_paid to see how many paid subscribers."
   ]
  },
  {
   "cell_type": "code",
   "execution_count": null,
   "id": "9337c654",
   "metadata": {},
   "outputs": [],
   "source": [
    "plt.figure(figsize=(5, 5))\n",
    "sns.countplot(x=df['is_paid'])\n",
    "plt.title('Paid Subscribers')"
   ]
  },
  {
   "cell_type": "markdown",
   "id": "36d13990",
   "metadata": {},
   "source": [
    "All are paid subscribers"
   ]
  },
  {
   "cell_type": "markdown",
   "id": "28b9d051",
   "metadata": {},
   "source": [
    "KPI: Find relation between created date and gained subscribers"
   ]
  },
  {
   "cell_type": "code",
   "execution_count": null,
   "id": "5ce13b59",
   "metadata": {},
   "outputs": [],
   "source": [
    "df.published_time"
   ]
  },
  {
   "cell_type": "code",
   "execution_count": null,
   "id": "342f94b7",
   "metadata": {},
   "outputs": [],
   "source": [
    "# Converted created column to datetime\n",
    "df['published_time'] = pd.to_datetime(df['published_time'])\n",
    "df['date_published'] = df['published_time'].dt.date"
   ]
  },
  {
   "cell_type": "code",
   "execution_count": null,
   "id": "d4dd5b6c",
   "metadata": {},
   "outputs": [],
   "source": [
    "df.date_published"
   ]
  },
  {
   "cell_type": "code",
   "execution_count": null,
   "id": "bf937ff3",
   "metadata": {},
   "outputs": [],
   "source": [
    "df['year_published'] = pd.DatetimeIndex(df.date_published).year\n",
    "df['month_published'] = pd.DatetimeIndex(df.date_published).month\n",
    "df['day_published'] = pd.DatetimeIndex(df.date_published).day"
   ]
  },
  {
   "cell_type": "code",
   "execution_count": null,
   "id": "438bac75",
   "metadata": {},
   "outputs": [],
   "source": [
    "plt.figure(figsize=(10,5))\n",
    "plt.xticks(fontsize=10, rotation = 'vertical')\n",
    "sns.countplot(x=df['year_published'], order = df.year_published.value_counts().index)\n",
    "plt.title('Subscribers per year')"
   ]
  },
  {
   "cell_type": "markdown",
   "id": "1b214912",
   "metadata": {},
   "source": [
    "course published in year"
   ]
  },
  {
   "cell_type": "markdown",
   "id": "4eed3aa7",
   "metadata": {},
   "source": [
    "# 3. Customer expectations"
   ]
  },
  {
   "cell_type": "markdown",
   "id": "90dfe6d8",
   "metadata": {},
   "source": [
    "•\tKPI: Counting the rating for each course."
   ]
  },
  {
   "cell_type": "code",
   "execution_count": null,
   "id": "9cd2b591",
   "metadata": {},
   "outputs": [],
   "source": [
    "df[['title', 'rating']].sort_values(by = 'rating')"
   ]
  },
  {
   "cell_type": "markdown",
   "id": "fec95777",
   "metadata": {},
   "source": [
    "Rating of each cource"
   ]
  },
  {
   "cell_type": "markdown",
   "id": "ac170801",
   "metadata": {},
   "source": [
    "KPI: Finding top rated courses with rating."
   ]
  },
  {
   "cell_type": "code",
   "execution_count": null,
   "id": "97185d30",
   "metadata": {},
   "outputs": [],
   "source": [
    "df[['title', 'rating']].sort_values(by = 'rating', ascending = False).head(10)"
   ]
  },
  {
   "cell_type": "code",
   "execution_count": null,
   "id": "295bf7b1",
   "metadata": {},
   "outputs": [],
   "source": [
    "Top 10 ratted course"
   ]
  },
  {
   "cell_type": "markdown",
   "id": "36d239b6",
   "metadata": {},
   "source": [
    "KPI: Finding the relation betweern num_published_lectures and price_detail__amount"
   ]
  },
  {
   "cell_type": "code",
   "execution_count": null,
   "id": "0dc4e806",
   "metadata": {},
   "outputs": [],
   "source": [
    "plt.figure(figsize=(10, 5))\n",
    "# Y= a + bX\n",
    "sns.regplot(y=df['num_published_lectures'],x=df['price_detail__amount'])\n",
    "plt.title('Published lecture to price')"
   ]
  },
  {
   "cell_type": "markdown",
   "id": "f96e63cc",
   "metadata": {},
   "source": [
    "There is a little correlation with the number of published lectures and prices, the more lectures are published, the higher the cost of courses."
   ]
  },
  {
   "cell_type": "markdown",
   "id": "0b9d8c54",
   "metadata": {},
   "source": [
    "# 4. Category distribution"
   ]
  },
  {
   "cell_type": "markdown",
   "id": "d0ec249e",
   "metadata": {},
   "source": [
    "KPI: Distribution categories based on discounted_price_amount"
   ]
  },
  {
   "cell_type": "raw",
   "id": "cbbb7f87",
   "metadata": {},
   "source": [
    "Replacing null values with 0"
   ]
  },
  {
   "cell_type": "code",
   "execution_count": null,
   "id": "11a7247b",
   "metadata": {},
   "outputs": [],
   "source": [
    "df['discount_price__amount'] = df['discount_price__amount'].replace(np.nan, 0)"
   ]
  },
  {
   "cell_type": "code",
   "execution_count": null,
   "id": "ce83aa52",
   "metadata": {},
   "outputs": [],
   "source": [
    "df['discount_price__amount'].isnull().sum()"
   ]
  },
  {
   "cell_type": "code",
   "execution_count": null,
   "id": "fc765220",
   "metadata": {
    "scrolled": true
   },
   "outputs": [],
   "source": [
    "plt.figure(figsize=(10,5))\n",
    "sns.histplot(df['discount_price__amount'])\n",
    "plt.title('Discount Distribution')\n",
    "plt.show()"
   ]
  },
  {
   "cell_type": "markdown",
   "id": "3d6e76b8",
   "metadata": {},
   "source": [
    "Maximum discount in courses "
   ]
  },
  {
   "cell_type": "markdown",
   "id": "5f7d0872",
   "metadata": {},
   "source": [
    "KPI: Distribution categories based on price_detail_amount"
   ]
  },
  {
   "cell_type": "code",
   "execution_count": null,
   "id": "da992fe8",
   "metadata": {},
   "outputs": [],
   "source": [
    "plt.figure(figsize=(10,5))\n",
    "sns.lineplot(x= df['price_detail__amount'], y = df['id'])\n",
    "plt.title('price Distribution')\n",
    "plt.show()"
   ]
  },
  {
   "cell_type": "markdown",
   "id": "8cce9564",
   "metadata": {},
   "source": [
    "Price distribution across the dataset"
   ]
  },
  {
   "cell_type": "markdown",
   "id": "b57a9619",
   "metadata": {},
   "source": [
    "KPI: Distribution categories based on avg. rating"
   ]
  },
  {
   "cell_type": "code",
   "execution_count": null,
   "id": "34f3ef3e",
   "metadata": {},
   "outputs": [],
   "source": [
    "plt.figure(figsize=(10,5))\n",
    "sns.histplot(df['rating'])\n",
    "plt.title(\"Distribution of rating\")\n",
    "plt.show()"
   ]
  },
  {
   "cell_type": "markdown",
   "id": "346097ae",
   "metadata": {},
   "source": [
    "Rating distribution of the cources"
   ]
  },
  {
   "cell_type": "code",
   "execution_count": null,
   "id": "b9e2b72a",
   "metadata": {
    "scrolled": true
   },
   "outputs": [],
   "source": [
    "plt.figure(figsize=(10,5))\n",
    "sns.histplot(df['num_subscribers'])\n",
    "plt.title('subscribers Distribution')\n",
    "plt.show()"
   ]
  },
  {
   "cell_type": "markdown",
   "id": "aa3aadeb",
   "metadata": {},
   "source": [
    "Subscribers distributions "
   ]
  },
  {
   "cell_type": "code",
   "execution_count": null,
   "id": "a6a3b00f",
   "metadata": {},
   "outputs": [],
   "source": [
    "plt.figure(figsize=(10,5))\n",
    "sns.distplot(df['price_detail__amount'])\n",
    "plt.title(\"Distribution of course amount\")\n",
    "plt.show()"
   ]
  },
  {
   "cell_type": "markdown",
   "id": "b512140f",
   "metadata": {},
   "source": [
    "Range of cources between the price range"
   ]
  },
  {
   "cell_type": "markdown",
   "id": "908666b6",
   "metadata": {},
   "source": [
    "# 5. Yearly performance."
   ]
  },
  {
   "cell_type": "markdown",
   "id": "53f15f1e",
   "metadata": {},
   "source": [
    "KPI: Find relation between created date and gained subscribers"
   ]
  },
  {
   "cell_type": "code",
   "execution_count": null,
   "id": "45fd54f2",
   "metadata": {},
   "outputs": [],
   "source": [
    "df.created"
   ]
  },
  {
   "cell_type": "code",
   "execution_count": null,
   "id": "07b4b67c",
   "metadata": {},
   "outputs": [],
   "source": [
    "#Converted created column to datetime\n",
    "df['created'] = pd.to_datetime(df['created'])\n",
    "df['date_created'] = df['created'].dt.date"
   ]
  },
  {
   "cell_type": "code",
   "execution_count": null,
   "id": "d38dffd8",
   "metadata": {},
   "outputs": [],
   "source": [
    "df.date_created"
   ]
  },
  {
   "cell_type": "code",
   "execution_count": null,
   "id": "55415f1f",
   "metadata": {},
   "outputs": [],
   "source": [
    "df['year_created'] = pd.DatetimeIndex(df.date_created).year\n",
    "df['month_created'] = pd.DatetimeIndex(df.date_created).month\n",
    "df['day_created'] = pd.DatetimeIndex(df.date_created).day"
   ]
  },
  {
   "cell_type": "code",
   "execution_count": null,
   "id": "c24bf898",
   "metadata": {},
   "outputs": [],
   "source": [
    "plt.figure(figsize=(10,5))\n",
    "plt.xticks(fontsize=10, rotation = 'vertical')\n",
    "sns.countplot(x=df['year_created'], order = df.year_created.value_counts().index)\n",
    "plt.title('Subscribers per year')"
   ]
  },
  {
   "cell_type": "markdown",
   "id": "2213bf42",
   "metadata": {},
   "source": [
    "Course created in different year"
   ]
  },
  {
   "cell_type": "markdown",
   "id": "ba6fac6f",
   "metadata": {},
   "source": [
    "KPI: Finding published courses in different years."
   ]
  },
  {
   "cell_type": "code",
   "execution_count": null,
   "id": "5d3ee08f",
   "metadata": {},
   "outputs": [],
   "source": [
    "plt.figure(figsize=(10,5))\n",
    "plt.xticks(fontsize=10, rotation = 'vertical')\n",
    "sns.lineplot(x=df['year_created'],y =df ['id'].index)\n",
    "plt.title('Created courses per year')"
   ]
  },
  {
   "cell_type": "code",
   "execution_count": null,
   "id": "f2979db0",
   "metadata": {},
   "outputs": [],
   "source": [
    "df"
   ]
  },
  {
   "cell_type": "code",
   "execution_count": null,
   "id": "8431fb0c",
   "metadata": {},
   "outputs": [],
   "source": [
    "df.dtypes"
   ]
  },
  {
   "cell_type": "code",
   "execution_count": null,
   "id": "3e46de7c",
   "metadata": {},
   "outputs": [],
   "source": [
    "df.drop([\"created\",\"published_time\"], axis=1, inplace=True)"
   ]
  },
  {
   "cell_type": "code",
   "execution_count": null,
   "id": "66d06db2",
   "metadata": {},
   "outputs": [],
   "source": [
    "df"
   ]
  },
  {
   "cell_type": "code",
   "execution_count": null,
   "id": "02a6388d",
   "metadata": {},
   "outputs": [],
   "source": [
    "df.to_excel('online_All_Business_p1_p626New.xlsx')"
   ]
  }
 ],
 "metadata": {
  "kernelspec": {
   "display_name": "Python 3 (ipykernel)",
   "language": "python",
   "name": "python3"
  },
  "language_info": {
   "codemirror_mode": {
    "name": "ipython",
    "version": 3
   },
   "file_extension": ".py",
   "mimetype": "text/x-python",
   "name": "python",
   "nbconvert_exporter": "python",
   "pygments_lexer": "ipython3",
   "version": "3.9.12"
  }
 },
 "nbformat": 4,
 "nbformat_minor": 5
}
